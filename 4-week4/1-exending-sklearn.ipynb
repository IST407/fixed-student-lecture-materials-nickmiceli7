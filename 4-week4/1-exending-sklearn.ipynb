{
 "cells": [
  {
   "cell_type": "markdown",
   "metadata": {},
   "source": [
    "# Building a Simple sklearn-compatible Estimator\n",
    "\n",
    "In this tutorial, we'll walk through the process of creating a sklearn-compatible class for a simple statistical operation: calculating Z-scores. This example will help you understand how to create custom estimators that work within the sklearn ecosystem, with a quick tutorial on object oriented programming.\n",
    "\n",
    "## 1. Introduction to Object-Oriented Programming (OOP)\n",
    "\n",
    "Object-Oriented Programming is a programming paradigm that organizes code into objects, which are instances of classes. This approach helps in structuring code, making it more modular and easier to maintain.\n",
    "\n",
    "### 1.1 Classes and Objects\n",
    "\n",
    "A class is a blueprint for creating objects. It defines attributes (data) and methods (functions) that the objects will have.\n"
   ]
  },
  {
   "cell_type": "code",
   "execution_count": 1,
   "metadata": {},
   "outputs": [
    {
     "name": "stdout",
     "output_type": "stream",
     "text": [
      "Buddy\n",
      "Buddy says Woof!\n"
     ]
    }
   ],
   "source": [
    "class Dog:\n",
    "    def __init__(self, name, age):\n",
    "        self.name = name  # This is an instance variable\n",
    "        self.age = age    # This is also an instance variable\n",
    "\n",
    "    def bark(self):       # This is a method\n",
    "        return f\"{self.name} says Woof!\"\n",
    "\n",
    "# Creating an object (instance) of the Dog class\n",
    "my_dog = Dog(\"Buddy\", 3)\n",
    "\n",
    "# Accessing instance variables\n",
    "print(my_dog.name)  # Output: Buddy\n",
    "\n",
    "# Calling a method\n",
    "print(my_dog.bark())  # Output: Buddy says Woof!"
   ]
  },
  {
   "cell_type": "markdown",
   "metadata": {},
   "source": [
    "\n",
    "In this example:\n",
    "- `Dog` is a class.\n",
    "- `name` and `age` are instance variables (also called member variables or attributes).\n",
    "- `bark()` is a method.\n",
    "- `my_dog` is an object (instance) of the `Dog` class.\n",
    "- `__init__` is a special method called a constructor. It's called when creating a new object.\n",
    "- `self` refers to the instance of the class. It's used to access instance variables and methods.\n",
    "\n",
    "### 1.2 Inheritance\n",
    "\n",
    "Inheritance is a mechanism that allows a class to inherit attributes and methods from another class.\n"
   ]
  },
  {
   "cell_type": "code",
   "execution_count": 2,
   "metadata": {},
   "outputs": [
    {
     "name": "stdout",
     "output_type": "stream",
     "text": [
      "Canine\n",
      "Woof!\n"
     ]
    }
   ],
   "source": [
    "class Animal:\n",
    "    def __init__(self, species):\n",
    "        self.species = species\n",
    "\n",
    "    def make_sound(self):\n",
    "        return \"Some generic animal sound\"\n",
    "\n",
    "class Dog(Animal):  # Dog inherits from Animal\n",
    "    def __init__(self, name):\n",
    "        super().__init__(\"Canine\")  # Call the parent class's __init__\n",
    "        self.name = name\n",
    "\n",
    "    def make_sound(self):  # This overrides the method from Animal\n",
    "        return \"Woof!\"\n",
    "\n",
    "my_dog = Dog(\"Buddy\")\n",
    "print(my_dog.species)  # Output: Canine\n",
    "print(my_dog.make_sound())  # Output: Woof!"
   ]
  },
  {
   "cell_type": "markdown",
   "metadata": {},
   "source": [
    "\n",
    "In this example:\n",
    "- `Dog` is a subclass (child class) of `Animal`.\n",
    "- `Dog` inherits the `species` attribute from `Animal`.\n",
    "- `Dog` overrides the `make_sound()` method with its own implementation.\n",
    "- `super().__init__()` calls the `__init__` method of the parent class.\n",
    "\n",
    "### 1.3 Multiple Inheritance and Mixins\n",
    "\n",
    "Python supports multiple inheritance, allowing a class to inherit from multiple parent classes. A Mixin is a class that provides methods to other classes but isn't meant to be instantiated on its own.\n"
   ]
  },
  {
   "cell_type": "code",
   "execution_count": 3,
   "metadata": {},
   "outputs": [
    {
     "name": "stdout",
     "output_type": "stream",
     "text": [
      "I can swim!\n",
      "I can fly!\n"
     ]
    }
   ],
   "source": [
    "\n",
    "class Swimmer:\n",
    "    def swim(self):\n",
    "        return \"I can swim!\"\n",
    "\n",
    "class Flyer:\n",
    "    def fly(self):\n",
    "        return \"I can fly!\"\n",
    "\n",
    "class Duck(Animal, Swimmer, Flyer):\n",
    "    def __init__(self, name):\n",
    "        super().__init__(\"Avian\")\n",
    "        self.name = name\n",
    "\n",
    "my_duck = Duck(\"Donald\")\n",
    "print(my_duck.swim())  # Output: I can swim!\n",
    "print(my_duck.fly())   # Output: I can fly!"
   ]
  },
  {
   "cell_type": "markdown",
   "metadata": {},
   "source": [
    "\n",
    "In this example, `Duck` inherits from `Animal` and also incorporates the `Swimmer` and `Flyer` mixins.  Of course, this is a simplistic example, and in \"real\" code, mixins and parent classes include functionality that child classes inherit for free.  The whole point is to make it easier for inheritors to write code that makes use of a common pool of functionality.\n",
    "\n",
    "## 2. The Estimator API and Mixins in sklearn\n",
    "\n",
    "Now that we understand the basics of OOP and inheritance, let's look at how sklearn uses these concepts.\n",
    "\n",
    "### 2.1 BaseEstimator\n",
    "\n",
    "`BaseEstimator` is a base class in sklearn that provides common functionality to all estimators:\n",
    "\n",
    "```python\n",
    "from sklearn.base import BaseEstimator\n",
    "\n",
    "class MyEstimator(BaseEstimator):\n",
    "    def __init__(self, param1=0, param2=1):\n",
    "        self.param1 = param1\n",
    "        self.param2 = param2\n",
    "\n",
    "    def fit(self, X, y=None):\n",
    "        # Implement the fitting logic here\n",
    "        return self\n",
    "\n",
    "    def predict(self, X):\n",
    "        # Implement the prediction logic here\n",
    "        pass\n",
    "```\n",
    "\n",
    "`BaseEstimator` provides methods like `get_params()` and `set_params()`, which enable model inspection and hyperparameter tuning.  By extending this class you can easily build new components that play nicely with other Sklearn components.\n",
    "\n",
    "### 2.2 Mixins in sklearn\n",
    "\n",
    "Sklearn also makes available several mixins that can be used to add specific functionality to estimators:\n",
    "\n",
    "- `TransformerMixin`: Adds `fit_transform()` method\n",
    "- `ClassifierMixin`: Adds `score()` method for classification tasks\n",
    "- `RegressorMixin`: Adds `score()` method for regression tasks\n",
    "\n",
    "Here's how the `TransformerMixin` works:\n",
    "\n",
    "```python\n",
    "class TransformerMixin:\n",
    "    def fit_transform(self, X, y=None):\n",
    "        return self.fit(X, y).transform(X)\n",
    "```\n",
    "\n",
    "By inheriting from `TransformerMixin`, a class automatically gets the `fit_transform()` method, which calls `fit()` and then `transform()`."
   ]
  },
  {
   "cell_type": "markdown",
   "metadata": {},
   "source": [
    "\n",
    "## 3. Building A Z-score Estimator for Using the SKLearn API\n",
    "\n",
    "Before we dive into the code, let's understand what a Z-score is:\n",
    "\n",
    "A Z-score (also called a standard score) measures how many standard deviations away a data point is from the mean of a dataset. The formula for a Z-score is:\n",
    "\n",
    "$$Z = (X - \\mu) / \\sigma$$\n",
    "\n",
    "Where:\n",
    "- X is the raw score\n",
    "- $\\mu$ (mu) is the mean of the population\n",
    "- $\\sigma$ is the standard deviation of the population\n",
    "\n",
    "Z-scores are useful for comparing values from different datasets or distributions."
   ]
  },
  {
   "cell_type": "markdown",
   "metadata": {},
   "source": [
    "\n",
    "Now let's create our Z-score calculator that conforms to the sklearn API:\n"
   ]
  },
  {
   "cell_type": "code",
   "execution_count": 4,
   "metadata": {},
   "outputs": [],
   "source": [
    "\n",
    "import numpy as np\n",
    "from sklearn.base import BaseEstimator, TransformerMixin\n",
    "\n",
    "class ZScoreTransformer(BaseEstimator, TransformerMixin):\n",
    "    def __init__(self):\n",
    "        self.mean_ = None  # Trailing underscore indicates estimated attribute\n",
    "        self.std_ = None   # Trailing underscore indicates estimated attribute\n",
    "\n",
    "    def fit(self, X, y=None):\n",
    "        self.mean_ = np.mean(X, axis=0)\n",
    "        self.std_ = np.std(X, axis=0)\n",
    "        return self\n",
    "\n",
    "    def transform(self, X):\n",
    "        return (X - self.mean_) / self.std_\n",
    "\n",
    "# We don't need to implement fit_transform() because TransformerMixin provides it\n"
   ]
  },
  {
   "cell_type": "markdown",
   "metadata": {},
   "source": [
    "\n",
    "\n",
    "Let's break this down:\n",
    "\n",
    "1. Our class inherits from `BaseEstimator` and `TransformerMixin`.\n",
    "2. `__init__` initializes our attributes. The trailing underscores in `mean_` and `std_` indicate these are attributes estimated from data.\n",
    "3. `fit()` calculates and stores the mean and standard deviation.\n",
    "4. `transform()` applies the Z-score calculation.\n",
    "5. We don't need to implement `fit_transform()` because `TransformerMixin` provides it.\n",
    "\n",
    "## 4. Using Our Custom Estimator\n",
    "\n",
    "Here's how we can use our custom estimator:\n"
   ]
  },
  {
   "cell_type": "code",
   "execution_count": 5,
   "metadata": {},
   "outputs": [
    {
     "name": "stdout",
     "output_type": "stream",
     "text": [
      "Original data (first 5 rows):\n",
      "[[ 0.56699586  0.77514674]\n",
      " [-1.17304336 -0.41577616]\n",
      " [ 0.46947063 -0.92225671]\n",
      " [ 0.70355083  0.13036693]\n",
      " [ 0.09095967 -0.62725398]]\n",
      "\n",
      "Transformed data (first 5 rows):\n",
      "[[ 0.6768307   0.78690639]\n",
      " [-1.27054608 -0.49347496]\n",
      " [ 0.56768468 -1.03800077]\n",
      " [ 0.82965712  0.09369271]\n",
      " [ 0.14407155 -0.72083835]]\n"
     ]
    }
   ],
   "source": [
    "import numpy as np\n",
    "from sklearn.model_selection import train_test_split\n",
    "\n",
    "# Generate some random data\n",
    "X = np.random.randn(100, 2)\n",
    "X_train, X_test = train_test_split(X, test_size=0.2, random_state=42)\n",
    "\n",
    "# Create and fit our transformer\n",
    "z_transformer = ZScoreTransformer()\n",
    "z_transformer.fit(X_train)\n",
    "\n",
    "# Transform the test data\n",
    "X_test_transformed = z_transformer.transform(X_test)\n",
    "\n",
    "print(\"Original data (first 5 rows):\")\n",
    "print(X_test[:5])\n",
    "print(\"\\nTransformed data (first 5 rows):\")\n",
    "print(X_test_transformed[:5])"
   ]
  },
  {
   "cell_type": "markdown",
   "metadata": {},
   "source": [
    "\n",
    "## 5. Conclusion\n",
    "\n",
    "By understanding OOP concepts like classes, inheritance, and mixins, we can create custom estimators that integrate seamlessly with sklearn's ecosystem. This allows us to extend sklearn's functionality while maintaining consistency with its API.\n",
    "\n",
    "## 6. Exercise for Students\n",
    "\n",
    "As an exercise, try to:\n",
    "1. Add a parameter to `__init__` to optionally use median and interquartile range instead of mean and standard deviation.\n",
    "2. Implement error handling for division by zero (when standard deviation is zero).\n",
    "3. Add a method to inverse_transform the Z-scores back to the original scale.\n",
    "\n",
    "Happy coding!"
   ]
  },
  {
   "cell_type": "markdown",
   "metadata": {},
   "source": [
    "\n",
    "\n",
    "## 2. Basic Python Classes\n",
    "\n",
    "Before we create our estimator, let's quickly review Python classes:\n"
   ]
  },
  {
   "cell_type": "code",
   "execution_count": 6,
   "metadata": {},
   "outputs": [
    {
     "name": "stdout",
     "output_type": "stream",
     "text": [
      "Buddy says Woof!\n"
     ]
    }
   ],
   "source": [
    "\n",
    "class Dog:\n",
    "    def __init__(self, name):\n",
    "        self.name = name\n",
    "    \n",
    "    def bark(self):\n",
    "        return f\"{self.name} says Woof!\"\n",
    "\n",
    "my_dog = Dog(\"Buddy\")\n",
    "print(my_dog.bark())  # Output: Buddy says Woof!\n"
   ]
  },
  {
   "cell_type": "markdown",
   "metadata": {},
   "source": [
    "\n",
    "\n",
    "In this example:\n",
    "- `__init__` is a special method (constructor) that initializes the object.\n",
    "- `self` refers to the instance of the class.\n",
    "- Methods are functions defined inside the class.\n",
    "\n",
    "## 3. The Estimator API\n",
    "\n",
    "Sklearn uses the Estimator API, which defines a common interface for all machine learning algorithms. The main methods we need to implement are:\n",
    "\n",
    "- `fit(X, y=None)`: Calculates and stores the parameters needed for the transformation.\n",
    "- `transform(X)`: Applies the transformation to the input data.\n",
    "\n",
    "Optional methods include:\n",
    "- `fit_transform(X, y=None)`: Fits the estimator and then transforms the data.\n",
    "- `get_params()`: Returns the estimator's parameters.\n",
    "- `set_params(**params)`: Sets the parameters of the estimator.\n",
    "\n",
    "## 4. Building Our Z-score Estimator\n",
    "\n",
    "Let's create a simple Z-score calculator that conforms to the sklearn API:\n"
   ]
  },
  {
   "cell_type": "code",
   "execution_count": null,
   "metadata": {},
   "outputs": [],
   "source": [
    "import numpy as np\n",
    "from sklearn.base import BaseEstimator, TransformerMixin\n",
    "\n",
    "# The parenthetical BaseEstimator and TransformerMixin are what's called\n",
    "\n",
    "class ZScoreTransformer(BaseEstimator, TransformerMixin):\n",
    "    def __init__(self):\n",
    "        self.mean_ = None\n",
    "        self.std_ = None\n",
    "\n",
    "    def fit(self, X, y=None):\n",
    "        self.mean_ = np.mean(X, axis=0)\n",
    "        self.std_ = np.std(X, axis=0)\n",
    "        return self\n",
    "\n",
    "    def transform(self, X):\n",
    "        return (X - self.mean_) / self.std_\n",
    "\n",
    "    def fit_transform(self, X, y=None):\n",
    "        return self.fit(X).transform(X)\n",
    "\n"
   ]
  },
  {
   "cell_type": "markdown",
   "metadata": {},
   "source": [
    "\n",
    "Let's break down the key components:\n",
    "\n",
    "1. We inherit from `BaseEstimator` and `TransformerMixin`.\n",
    "2. `__init__` initializes our attributes.\n",
    "3. `fit` calculates and stores the mean and standard deviation.\n",
    "4. `transform` applies the Z-score calculation.\n",
    "5. `fit_transform` combines fitting and transforming in one step.\n",
    "\n",
    "## 5. Understanding BaseEstimator and TransformerMixin\n",
    "\n",
    "### BaseEstimator\n",
    "\n",
    "`BaseEstimator` provides default `get_params()` and `set_params()` methods. These are useful for model inspection and hyperparameter tuning. While not strictly necessary, inheriting from `BaseEstimator` makes our estimator more compatible with sklearn's ecosystem.\n",
    "\n",
    "If we didn't extend `BaseEstimator`, we'd need to implement these methods ourselves:\n",
    "\n",
    "\n",
    "```python\n",
    "class ZScoreTransformerWithoutBase:\n",
    "    def __init__(self):\n",
    "        self.mean_ = None\n",
    "        self.std_ = None\n",
    "\n",
    "    def get_params(self, deep=True):\n",
    "        return {\"mean_\": self.mean_, \"std_\": self.std_}\n",
    "\n",
    "    def set_params(self, **parameters):\n",
    "        for parameter, value in parameters.items():\n",
    "            setattr(self, parameter, value)\n",
    "        return self\n",
    "\n",
    "    # ... rest of the methods ...\n",
    "```\n",
    "\n",
    "### TransformerMixin\n",
    "\n",
    "`TransformerMixin` provides a default `fit_transform()` method that calls `fit()` and then `transform()`. It's a convenience class that saves us from writing this method ourselves.\n",
    "\n",
    "Other common mixins in sklearn include:\n",
    "- `RegressorMixin`: For regression algorithms\n",
    "- `ClassifierMixin`: For classification algorithms\n",
    "- `ClusterMixin`: For clustering algorithms\n",
    "\n",
    "Each mixin provides some default behavior appropriate for its type of estimator.\n",
    "\n",
    "## 6. Using Our Custom Estimator\n",
    "\n",
    "Now let's see how to use our custom estimator:\n",
    "\n"
   ]
  },
  {
   "cell_type": "code",
   "execution_count": 7,
   "metadata": {},
   "outputs": [
    {
     "name": "stdout",
     "output_type": "stream",
     "text": [
      "Original data (first 5 rows):\n",
      "[[ 0.45820894 -1.53318002]\n",
      " [-0.37224735  0.62818689]\n",
      " [ 0.89868645  1.57903707]\n",
      " [ 0.91057867  0.23473719]\n",
      " [ 1.31144527  0.75723325]]\n",
      "\n",
      "Transformed data (first 5 rows):\n",
      "[[ 0.59634143 -1.71502361]\n",
      " [-0.29779675  0.4750514 ]\n",
      " [ 1.07059608  1.43853115]\n",
      " [ 1.08340023  0.07637576]\n",
      " [ 1.51500649  0.6058118 ]]\n"
     ]
    }
   ],
   "source": [
    "\n",
    "import numpy as np\n",
    "from sklearn.model_selection import train_test_split\n",
    "\n",
    "# Generate some random data\n",
    "X = np.random.randn(100, 2)\n",
    "X_train, X_test = train_test_split(X, test_size=0.2, random_state=42)\n",
    "\n",
    "# Create and fit our transformer\n",
    "z_transformer = ZScoreTransformer()\n",
    "z_transformer.fit(X_train)\n",
    "\n",
    "# Transform the test data\n",
    "X_test_transformed = z_transformer.transform(X_test)\n",
    "\n",
    "print(\"Original data (first 5 rows):\")\n",
    "print(X_test[:5])\n",
    "print(\"\\nTransformed data (first 5 rows):\")\n",
    "print(X_test_transformed[:5])"
   ]
  },
  {
   "cell_type": "markdown",
   "metadata": {},
   "source": [
    "\n",
    "This example demonstrates how to:\n",
    "1. Create an instance of our custom transformer.\n",
    "2. Fit the transformer to training data.\n",
    "3. Transform test data.\n",
    "\n",
    "## 7. Benefits of Conforming to the Estimator API\n",
    "\n",
    "By conforming to sklearn's Estimator API, we gain several advantages:\n",
    "\n",
    "1. **Consistency**: Our estimator works like any other sklearn estimator, making it easier for others (and ourselves) to use.\n",
    "2. **Pipeline compatibility**: We can use our estimator in sklearn's Pipeline and FeatureUnion.\n",
    "3. **Model selection tools**: We can use tools like GridSearchCV for hyperparameter tuning (if our estimator had hyperparameters).\n",
    "4. **Validation tools**: We can use sklearn's cross-validation tools seamlessly.\n",
    "\n",
    "## 8. Conclusion\n",
    "\n",
    "You've now created a simple sklearn-compatible Z-score transformer! This approach allows you to integrate custom transformations seamlessly with sklearn's ecosystem.\n",
    "\n",
    "## 9. Exercise for Students\n",
    "\n",
    "As an exercise, try to extend this class to include:\n",
    "1. A parameter in `__init__` to optionally use median and interquartile range instead of mean and standard deviation.\n",
    "2. Error handling for division by zero (when standard deviation is zero).\n",
    "3. A method to inverse_transform the Z-scores back to the original scale.\n",
    "\n",
    "Happy coding!"
   ]
  },
  {
   "cell_type": "markdown",
   "metadata": {},
   "source": []
  },
  {
   "cell_type": "markdown",
   "metadata": {},
   "source": [
    "\n"
   ]
  },
  {
   "cell_type": "code",
   "execution_count": null,
   "metadata": {},
   "outputs": [],
   "source": []
  }
 ],
 "metadata": {
  "kernelspec": {
   "display_name": "Python 3",
   "language": "python",
   "name": "python3"
  },
  "language_info": {
   "codemirror_mode": {
    "name": "ipython",
    "version": 3
   },
   "file_extension": ".py",
   "mimetype": "text/x-python",
   "name": "python",
   "nbconvert_exporter": "python",
   "pygments_lexer": "ipython3",
   "version": "3.12.1"
  }
 },
 "nbformat": 4,
 "nbformat_minor": 2
}
